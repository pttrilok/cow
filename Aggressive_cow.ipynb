{
  "nbformat": 4,
  "nbformat_minor": 0,
  "metadata": {
    "colab": {
      "name": "Aggressive cow.ipynb",
      "provenance": []
    },
    "kernelspec": {
      "name": "python3",
      "display_name": "Python 3"
    }
  },
  "cells": [
    {
      "cell_type": "code",
      "metadata": {
        "id": "w2LyBD3NszKC",
        "colab_type": "code",
        "colab": {}
      },
      "source": [
        "import sys\n",
        "def check_validity(diff,n,c,ar,lmax):\n",
        "  temp=0;\n",
        "  prev=-sys.maxsize - 1\n",
        "  for i in range(n):\n",
        "    if diff<= (ar[i]-prev):\n",
        "      prev=ar[i]\n",
        "      temp=temp+1\n",
        "    if temp==c :\n",
        "      return True;\n",
        "  return False;\n",
        "    \n",
        "def solve(n,c,ar,lmax):\n",
        "  low=1;\n",
        "  ans=0;\n",
        "  high=lmax\n",
        "  while low <= high:\n",
        "    mid=(low+high)//2;\n",
        "    if check_validity(mid,n,c,ar,lmax):\n",
        "      ans=mid;\n",
        "      low=mid+1;\n",
        "    else:\n",
        "      high=mid-1;     \n",
        "  return ans;"
      ],
      "execution_count": null,
      "outputs": []
    },
    {
      "cell_type": "code",
      "metadata": {
        "id": "cpuu2Dvf3xrt",
        "colab_type": "code",
        "colab": {}
      },
      "source": [
        " import random\n",
        " import os\n",
        " os.makedirs(\"test_cases/input\",exist_ok=True)\n",
        " os.makedirs(\"test_cases/output\",exist_ok=True)\n",
        " for i in range(50):\n",
        "   writer_data=[]\n",
        "   output_data=[]\n",
        "   t = random.randint(1,10)\n",
        "   writer_data.append(str(t)+\"\\n\")\n",
        "   for test_cases in range(t):\n",
        "     n=random.randint(3,100)\n",
        "     c=random.randint(2,n)\n",
        "     writer_data.append(str(n)+\" \"+str(c)+\"\\n\")\n",
        "     ar=random.sample(range(1, 500), n)\n",
        "     data_line=\"\"\n",
        "     for j in ar:\n",
        "       data_line=data_line+str(j)+\" \"\n",
        "     writer_data.append(data_line+\"\\n\")\n",
        "     ar.sort()\n",
        "     lmax=ar[-1]\n",
        "     output_data.append(str(solve(n,c,ar,lmax))+\"\\n\")\n",
        "   input_file=open(\"test_cases/input/input\"+str(i).zfill(2)+\".txt\",\"a\")\n",
        "   input_file.writelines(writer_data)\n",
        "   input_file.close()\n",
        "   output_file=open(\"test_cases/output/output\"+str(i).zfill(2)+\".txt\",\"a\")\n",
        "   output_file.writelines(output_data)\n",
        "   output_file.close() \n",
        "   "
      ],
      "execution_count": null,
      "outputs": []
    },
    {
      "cell_type": "code",
      "metadata": {
        "id": "DrXxptC-9A23",
        "colab_type": "code",
        "colab": {}
      },
      "source": [
        "!rm -r test_cases"
      ],
      "execution_count": null,
      "outputs": []
    },
    {
      "cell_type": "code",
      "metadata": {
        "id": "5FssRMvP5kVW",
        "colab_type": "code",
        "colab": {
          "base_uri": "https://localhost:8080/",
          "height": 1000
        },
        "outputId": "935c249d-902d-468f-9ed4-fc1a46205f49"
      },
      "source": [
        "!zip -r cow.zip test_cases"
      ],
      "execution_count": null,
      "outputs": [
        {
          "output_type": "stream",
          "text": [
            "  adding: test_cases/ (stored 0%)\n",
            "  adding: test_cases/input/ (stored 0%)\n",
            "  adding: test_cases/input/input03.txt (deflated 49%)\n",
            "  adding: test_cases/input/input38.txt (deflated 50%)\n",
            "  adding: test_cases/input/input15.txt (deflated 52%)\n",
            "  adding: test_cases/input/input44.txt (deflated 50%)\n",
            "  adding: test_cases/input/input09.txt (deflated 54%)\n",
            "  adding: test_cases/input/input40.txt (deflated 52%)\n",
            "  adding: test_cases/input/input20.txt (deflated 35%)\n",
            "  adding: test_cases/input/input14.txt (deflated 54%)\n",
            "  adding: test_cases/input/input48.txt (deflated 53%)\n",
            "  adding: test_cases/input/input02.txt (deflated 54%)\n",
            "  adding: test_cases/input/input46.txt (deflated 32%)\n",
            "  adding: test_cases/input/input05.txt (deflated 50%)\n",
            "  adding: test_cases/input/input27.txt (deflated 51%)\n",
            "  adding: test_cases/input/input00.txt (deflated 52%)\n",
            "  adding: test_cases/input/input49.txt (deflated 53%)\n",
            "  adding: test_cases/input/input26.txt (deflated 49%)\n",
            "  adding: test_cases/input/input37.txt (deflated 52%)\n",
            "  adding: test_cases/input/input47.txt (deflated 52%)\n",
            "  adding: test_cases/input/input10.txt (deflated 54%)\n",
            "  adding: test_cases/input/input24.txt (deflated 52%)\n",
            "  adding: test_cases/input/input23.txt (deflated 44%)\n",
            "  adding: test_cases/input/input43.txt (deflated 53%)\n",
            "  adding: test_cases/input/input25.txt (deflated 53%)\n",
            "  adding: test_cases/input/input04.txt (deflated 29%)\n",
            "  adding: test_cases/input/input12.txt (deflated 52%)\n",
            "  adding: test_cases/input/input29.txt (deflated 52%)\n",
            "  adding: test_cases/input/input18.txt (deflated 54%)\n",
            "  adding: test_cases/input/input33.txt (deflated 53%)\n",
            "  adding: test_cases/input/input42.txt (deflated 52%)\n",
            "  adding: test_cases/input/input16.txt (deflated 50%)\n",
            "  adding: test_cases/input/input36.txt (deflated 53%)\n",
            "  adding: test_cases/input/input30.txt (deflated 54%)\n",
            "  adding: test_cases/input/input39.txt (deflated 53%)\n",
            "  adding: test_cases/input/input31.txt (deflated 53%)\n",
            "  adding: test_cases/input/input06.txt (deflated 52%)\n",
            "  adding: test_cases/input/input41.txt (deflated 53%)\n",
            "  adding: test_cases/input/input13.txt (deflated 54%)\n",
            "  adding: test_cases/input/input22.txt (deflated 54%)\n",
            "  adding: test_cases/input/input45.txt (deflated 53%)\n",
            "  adding: test_cases/input/input08.txt (deflated 54%)\n",
            "  adding: test_cases/input/input17.txt (deflated 52%)\n",
            "  adding: test_cases/input/input34.txt (deflated 53%)\n",
            "  adding: test_cases/input/input19.txt (deflated 48%)\n",
            "  adding: test_cases/input/input07.txt (deflated 52%)\n",
            "  adding: test_cases/input/input32.txt (deflated 50%)\n",
            "  adding: test_cases/input/input01.txt (deflated 54%)\n",
            "  adding: test_cases/input/input21.txt (deflated 50%)\n",
            "  adding: test_cases/input/input35.txt (deflated 52%)\n",
            "  adding: test_cases/input/input28.txt (deflated 52%)\n",
            "  adding: test_cases/input/input11.txt (deflated 44%)\n",
            "  adding: test_cases/output/ (stored 0%)\n",
            "  adding: test_cases/output/output13.txt (stored 0%)\n",
            "  adding: test_cases/output/output34.txt (deflated 11%)\n",
            "  adding: test_cases/output/output01.txt (stored 0%)\n",
            "  adding: test_cases/output/output40.txt (stored 0%)\n",
            "  adding: test_cases/output/output19.txt (stored 0%)\n",
            "  adding: test_cases/output/output42.txt (stored 0%)\n",
            "  adding: test_cases/output/output25.txt (stored 0%)\n",
            "  adding: test_cases/output/output47.txt (stored 0%)\n",
            "  adding: test_cases/output/output41.txt (stored 0%)\n",
            "  adding: test_cases/output/output16.txt (stored 0%)\n",
            "  adding: test_cases/output/output04.txt (stored 0%)\n",
            "  adding: test_cases/output/output28.txt (stored 0%)\n",
            "  adding: test_cases/output/output33.txt (stored 0%)\n",
            "  adding: test_cases/output/output38.txt (stored 0%)\n",
            "  adding: test_cases/output/output09.txt (stored 0%)\n",
            "  adding: test_cases/output/output49.txt (stored 0%)\n",
            "  adding: test_cases/output/output43.txt (deflated 4%)\n",
            "  adding: test_cases/output/output08.txt (stored 0%)\n",
            "  adding: test_cases/output/output00.txt (stored 0%)\n",
            "  adding: test_cases/output/output07.txt (stored 0%)\n",
            "  adding: test_cases/output/output23.txt (stored 0%)\n",
            "  adding: test_cases/output/output10.txt (stored 0%)\n",
            "  adding: test_cases/output/output11.txt (stored 0%)\n",
            "  adding: test_cases/output/output02.txt (stored 0%)\n",
            "  adding: test_cases/output/output03.txt (stored 0%)\n",
            "  adding: test_cases/output/output06.txt (stored 0%)\n",
            "  adding: test_cases/output/output32.txt (stored 0%)\n",
            "  adding: test_cases/output/output20.txt (stored 0%)\n",
            "  adding: test_cases/output/output46.txt (stored 0%)\n",
            "  adding: test_cases/output/output22.txt (deflated 8%)\n",
            "  adding: test_cases/output/output05.txt (stored 0%)\n",
            "  adding: test_cases/output/output31.txt (stored 0%)\n",
            "  adding: test_cases/output/output44.txt (stored 0%)\n",
            "  adding: test_cases/output/output17.txt (deflated 11%)\n",
            "  adding: test_cases/output/output45.txt (stored 0%)\n",
            "  adding: test_cases/output/output39.txt (stored 0%)\n",
            "  adding: test_cases/output/output37.txt (stored 0%)\n",
            "  adding: test_cases/output/output36.txt (stored 0%)\n",
            "  adding: test_cases/output/output30.txt (stored 0%)\n",
            "  adding: test_cases/output/output48.txt (stored 0%)\n",
            "  adding: test_cases/output/output14.txt (stored 0%)\n",
            "  adding: test_cases/output/output24.txt (stored 0%)\n",
            "  adding: test_cases/output/output15.txt (stored 0%)\n",
            "  adding: test_cases/output/output12.txt (stored 0%)\n",
            "  adding: test_cases/output/output27.txt (stored 0%)\n",
            "  adding: test_cases/output/output35.txt (stored 0%)\n",
            "  adding: test_cases/output/output26.txt (stored 0%)\n",
            "  adding: test_cases/output/output29.txt (stored 0%)\n",
            "  adding: test_cases/output/output21.txt (stored 0%)\n",
            "  adding: test_cases/output/output18.txt (stored 0%)\n"
          ],
          "name": "stdout"
        }
      ]
    },
    {
      "cell_type": "code",
      "metadata": {
        "id": "n2n51i8X-8K_",
        "colab_type": "code",
        "colab": {}
      },
      "source": [
        ""
      ],
      "execution_count": null,
      "outputs": []
    }
  ]
}